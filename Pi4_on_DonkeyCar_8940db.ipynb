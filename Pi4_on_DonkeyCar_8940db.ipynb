{
  "nbformat": 4,
  "nbformat_minor": 0,
  "metadata": {
    "colab": {
      "name": "Pi4_on_DonkeyCar-8940db.ipynb",
      "provenance": [],
      "collapsed_sections": [
        "Uwl-Ct1QZapS",
        "JopyWPttXqAa",
        "8IYt3nB5a-DH",
        "fXFZtafMdoKh",
        "v7lKyuc5juu3"
      ],
      "include_colab_link": true
    },
    "kernelspec": {
      "name": "python3",
      "display_name": "Python 3"
    },
    "accelerator": "GPU"
  },
  "cells": [
    {
      "cell_type": "markdown",
      "metadata": {
        "id": "view-in-github",
        "colab_type": "text"
      },
      "source": [
        "<a href=\"https://colab.research.google.com/github/sunglishuan/mycar/blob/master/Pi4_on_DonkeyCar_8940db.ipynb\" target=\"_parent\"><img src=\"https://colab.research.google.com/assets/colab-badge.svg\" alt=\"Open In Colab\"/></a>"
      ]
    },
    {
      "cell_type": "markdown",
      "metadata": {
        "id": "c0R2ggFajp8m"
      },
      "source": [
        "# 1- 存到你的 Google Drive"
      ]
    },
    {
      "cell_type": "markdown",
      "metadata": {
        "id": "oGXyqGncjp8b"
      },
      "source": [
        "- [CC-BY](http://creativecommons.org/licenses/by/3.0/tw/) [十百千實驗室](https://medium.com/十百千實驗室)"
      ]
    },
    {
      "cell_type": "markdown",
      "metadata": {
        "id": "FNJPVrXDXWBY"
      },
      "source": [
        "# 2- Colab Notebook 基本操作"
      ]
    },
    {
      "cell_type": "markdown",
      "metadata": {
        "id": "vacIXeEs4OnD"
      },
      "source": [
        "## 2-0 載入 Python 必要套件"
      ]
    },
    {
      "cell_type": "code",
      "metadata": {
        "id": "xa7MQ9d-4dN7"
      },
      "source": [
        "from IPython.display import Image\n",
        "import glob\n",
        "import shutil "
      ],
      "execution_count": null,
      "outputs": []
    },
    {
      "cell_type": "markdown",
      "metadata": {
        "id": "4ZCyuJ_E1Wrm"
      },
      "source": [
        "## 2-1 更新 tensorflow runtime，換成 tensorflow-1.13.1"
      ]
    },
    {
      "cell_type": "code",
      "metadata": {
        "id": "7epBDm8dwZgq"
      },
      "source": [
        "! pip uninstall -y tensorflow\n",
        "! pip install tensorflow-gpu==1.13.1"
      ],
      "execution_count": null,
      "outputs": []
    },
    {
      "cell_type": "markdown",
      "metadata": {
        "id": "8v_dH_csG2sh"
      },
      "source": [
        "## 2-2 測試是否支援GPU"
      ]
    },
    {
      "cell_type": "code",
      "metadata": {
        "id": "qITFrlf9God4"
      },
      "source": [
        "import tensorflow as tf\n",
        "device_name = tf.test.gpu_device_name()\n",
        "if device_name != '/device:GPU:0':\n",
        "  raise SystemError('GPU device not found')\n",
        "print('Found GPU at: {}'.format(device_name))"
      ],
      "execution_count": null,
      "outputs": []
    },
    {
      "cell_type": "markdown",
      "metadata": {
        "id": "Uwl-Ct1QZapS"
      },
      "source": [
        "## 2-3 進、出、換 cell\n",
        "1. ENTER進cell\n",
        "2. ESC出cell\n",
        "3. ↑↓換cell"
      ]
    },
    {
      "cell_type": "markdown",
      "metadata": {
        "id": "JopyWPttXqAa"
      },
      "source": [
        "## 2-4 上增、下增、刪除、轉換 cell\n",
        "1. CMD/CTRL+m a (above的意思)\n",
        "2. CMD/CTRL+m b (below的意思)\n",
        "3. CMD/CTRL+m d (delete的意思)\n",
        "4. CMD/CTRL+m m/y (轉成text/code)"
      ]
    },
    {
      "cell_type": "markdown",
      "metadata": {
        "id": "8IYt3nB5a-DH"
      },
      "source": [
        "## 2-5 在cell內\n",
        "1. ENTER換行編輯cell\n",
        "2. SHIFT+ENTER執行cell"
      ]
    },
    {
      "cell_type": "markdown",
      "metadata": {
        "id": "fXFZtafMdoKh"
      },
      "source": [
        "## 2-6 上一步/下一步\n",
        "1. 在cell內：CMD/CTRL+z/y \n",
        "2. 在cell外：CMD/CTRL+SHIFT+z/y "
      ]
    },
    {
      "cell_type": "markdown",
      "metadata": {
        "id": "v7lKyuc5juu3"
      },
      "source": [
        "## 2-7 Runtime\n",
        "1. restart 重開機的概念\n",
        "2. reset 重置、重灌的概念\n",
        "3. 換成GPU的，GPU的平行運算能大幅縮短神經網路的訓練時間"
      ]
    },
    {
      "cell_type": "markdown",
      "metadata": {
        "id": "5CORTmaGdz7r"
      },
      "source": [
        "# 3- 在 Colab 操作 Linux 指令"
      ]
    },
    {
      "cell_type": "markdown",
      "metadata": {
        "id": "YahOeLaofN_x"
      },
      "source": [
        "1. 你的Google雲端硬碟裡的Colab Notebook是跑在1.5hr/12hr自動重置的Linux虛擬機上\n",
        "2. 資料科學、機器學習、深度學習(神經網路)、Google Cloud API相關的Python函式庫皆已安裝\n",
        "3. 現成的AI實驗開發環境，使用Python程式語言\n",
        "4. 前置一個驚嘆號，使用Linux指令操作虛擬機\n",
        "5. 用 && 解決無法停留在 cd 後的工作目錄的問題"
      ]
    },
    {
      "cell_type": "markdown",
      "metadata": {
        "id": "TdQg-bwNT2da"
      },
      "source": [
        "# 4- 訓練（學）"
      ]
    },
    {
      "cell_type": "markdown",
      "metadata": {
        "id": "XGf8mEP4InQ6"
      },
      "source": [
        "## 4-1 安裝 Donkeycar 開發套件"
      ]
    },
    {
      "cell_type": "code",
      "metadata": {
        "id": "nZQCTMl45KLJ"
      },
      "source": [
        "! git clone https://github.com/autorope/donkeycar\n",
        "! cd donkeycar && git checkout master\n",
        "! cd donkeycar && git checkout 8940db\n",
        "! cd donkeycar && time pip3 install -e ."
      ],
      "execution_count": null,
      "outputs": []
    },
    {
      "cell_type": "markdown",
      "metadata": {
        "id": "ts8Ml-l2IMpP"
      },
      "source": [
        "## 4-2 安裝搖桿程式"
      ]
    },
    {
      "cell_type": "code",
      "metadata": {
        "id": "qxskIwLvPIiu"
      },
      "source": [
        "! git clone https://github.com/raspberrypi-tw/donkeypart_ps3_controller\n",
        "! cd donkeypart_ps3_controller && git checkout ab7401\n",
        "! cd donkeypart_ps3_controller && python3 setup.py install"
      ],
      "execution_count": null,
      "outputs": []
    },
    {
      "cell_type": "markdown",
      "metadata": {
        "id": "MrTdaCR4FFzs"
      },
      "source": [
        "## 4-3-1 完整複製（git clone）從樹莓派上傳（git push）至 GitHub 的 Repo"
      ]
    },
    {
      "cell_type": "code",
      "metadata": {
        "id": "aWaMVOZJIWD7"
      },
      "source": [
        "# 從 github 拉下你(ID)的儲存庫(REPO) => 角括號要去掉\n",
        "# 例如 git clone https://github.com/sosorry/mycar.git\n",
        "! git clone https://github.com/<ID>/<REPO>"
      ],
      "execution_count": null,
      "outputs": []
    },
    {
      "cell_type": "code",
      "metadata": {
        "id": "fdZcIxiafC7u"
      },
      "source": [
        "# 複製 sample_manage.py 到 <REPO>\n",
        "! cp donkeypart_ps3_controller/sample_manage.py mycar"
      ],
      "execution_count": null,
      "outputs": []
    },
    {
      "cell_type": "markdown",
      "metadata": {
        "id": "HmJ03Q97FlxL"
      },
      "source": [
        "## 4-3-2 下載差異（git pull）從樹莓派上傳（git push）至 GitHub 的 Repo"
      ]
    },
    {
      "cell_type": "code",
      "metadata": {
        "id": "bZt6MZLmteBb"
      },
      "source": [
        "# 更新 Colab <REPO> 資料\n",
        "! cd mycar && rm -rf models\n",
        "! cd mycar && git pull"
      ],
      "execution_count": null,
      "outputs": []
    },
    {
      "cell_type": "markdown",
      "metadata": {
        "id": "BVEb-VpfGPFw"
      },
      "source": [
        "## 4-4 訓練各種深度神經網路 aka 深度學習模型\n",
        "1. model 自行命名，但副檔名必須是.h5\n",
        "2. type 選項  \n",
        "https://github.com/autorope/donkeycar/blob/dev/donkeycar/templates/train.py#L13\n",
        "3. DonkeyCar已實作的各種模型的說明和比較  \n",
        "http://docs.donkeycar.com/parts/keras/\n",
        "4. batch = 一次訓練的樣本數  \n",
        "epoch = 完整訓練的回合數"
      ]
    },
    {
      "cell_type": "code",
      "metadata": {
        "id": "tTGjZ1ORIkIH"
      },
      "source": [
        "# 進到 <REPO> 以後進行訓練，預設使用 linear\n",
        "! mkdir mycar/models\n",
        "! cd mycar && python sample_manage.py train --model models/lin_1.h5  --type linear # --tub data/tub資料夾名稱,data/tub資料夾名稱,..."
      ],
      "execution_count": null,
      "outputs": []
    },
    {
      "cell_type": "code",
      "metadata": {
        "id": "gyxU7E2JFSVm"
      },
      "source": [
        "# 進到 <REPO> 以後進行訓練，這次使用 categorical\n",
        "! mkdir mycar/models\n",
        "! cd mycar && python sample_manage.py train --model models/cat_1.h5 --type categorical # --tub data/tub資料夾名稱,data/tub資料夾名稱,..."
      ],
      "execution_count": null,
      "outputs": []
    },
    {
      "cell_type": "code",
      "metadata": {
        "id": "XlXIsAe-177b"
      },
      "source": [
        "# 進到 <REPO> 以後進行訓練，這次使用 rnn\n",
        "! mkdir mycar/models\n",
        "! cd mycar && python sample_manage.py train --model models/rnn_1.h5 --type rnn # --tub data/tub資料夾名稱,data/tub資料夾名稱,..."
      ],
      "execution_count": null,
      "outputs": []
    },
    {
      "cell_type": "markdown",
      "metadata": {
        "id": "AT3nLQr6_XIP"
      },
      "source": [
        "## 4-5 Train a Behavior Model"
      ]
    },
    {
      "cell_type": "code",
      "metadata": {
        "id": "kp8DVWNZ_npd"
      },
      "source": [
        "# 進到 <REPO> 以後進行訓練，這次使用 behavior model，要換掉 <TUB_NAME>\n",
        "! mkdir mycar/models\n",
        "! cd mycar && python sample_manage.py train --model models/beh_1.h5 --type behavior --tub data/<TUB_NAME>"
      ],
      "execution_count": null,
      "outputs": []
    },
    {
      "cell_type": "markdown",
      "metadata": {
        "id": "qUJ9v5x6IxQF"
      },
      "source": [
        "## 4-6 遷移學習（增加訓練、增加技能）\n",
        "\n"
      ]
    },
    {
      "cell_type": "code",
      "metadata": {
        "id": "gDvO4snm2b7x"
      },
      "source": [
        "! cd mycar && python sample_manage.py train --transfer models/rnn_1.h5 --model models/rnn_2.h5 --type rnn"
      ],
      "execution_count": null,
      "outputs": []
    },
    {
      "cell_type": "markdown",
      "metadata": {
        "id": "T2sD9AvSEFzy"
      },
      "source": [
        "# 5- 小工具"
      ]
    },
    {
      "cell_type": "markdown",
      "metadata": {
        "id": "ms-8K9AefJYd"
      },
      "source": [
        "## 5-1 Make Movies with User & Pilot"
      ]
    },
    {
      "cell_type": "code",
      "metadata": {
        "id": "czZwEVRNfkSN"
      },
      "source": [
        "! pip install git+https://github.com/autorope/keras-vis.git\n",
        "\n",
        "# 指定要做成影片的資料夾(TUB_NAME)、模型名稱(MODEL_NAME)\n",
        "! cd mycar && donkey makemovie --tub data/<TUB_NAME> --out tub_movie.mp4 --model models/<MODEL_NAME>"
      ],
      "execution_count": null,
      "outputs": []
    },
    {
      "cell_type": "markdown",
      "metadata": {
        "id": "BtOUlMudLxty"
      },
      "source": [
        "## 5-2 Salient Object Visualization"
      ]
    },
    {
      "cell_type": "code",
      "metadata": {
        "id": "4oITJDPYL5CE"
      },
      "source": [
        "# 指定要做成影片的資料夾(TUB_NAME)、模型名稱(MODEL_NAME)\n",
        "! cd mycar &&  donkey makemovie --tub data/<TUB_NAME> --out salient_tub_movie.mp4 --model models/<MODEL_NAME> --type linear --salient"
      ],
      "execution_count": null,
      "outputs": []
    }
  ]
}